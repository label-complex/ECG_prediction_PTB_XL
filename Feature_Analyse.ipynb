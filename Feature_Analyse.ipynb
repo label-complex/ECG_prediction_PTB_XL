{
  "nbformat": 4,
  "nbformat_minor": 0,
  "metadata": {
    "colab": {
      "provenance": [],
      "mount_file_id": "18RGDb-TITX2gE6lHzJ3LPgDuhwaDBGVH",
      "authorship_tag": "ABX9TyM8CcYXsYgyPP6m5Ccsqus9",
      "include_colab_link": true
    },
    "kernelspec": {
      "name": "python3",
      "display_name": "Python 3"
    },
    "language_info": {
      "name": "python"
    }
  },
  "cells": [
    {
      "cell_type": "markdown",
      "metadata": {
        "id": "view-in-github",
        "colab_type": "text"
      },
      "source": [
        "<a href=\"https://colab.research.google.com/github/label-complex/ECG_prediction_PTB_XL/blob/main/Feature_Analyse.ipynb\" target=\"_parent\"><img src=\"https://colab.research.google.com/assets/colab-badge.svg\" alt=\"Open In Colab\"/></a>"
      ]
    },
    {
      "cell_type": "markdown",
      "source": [
        "##Load Data and Libs\n",
        "The whole database is saved in google drive. Also, we need a specific library WFDB to read our ECG datas. The detailed usage of this library will be described in following parts."
      ],
      "metadata": {
        "id": "E7DJqhbSjXd4"
      }
    },
    {
      "cell_type": "code",
      "execution_count": null,
      "metadata": {
        "colab": {
          "base_uri": "https://localhost:8080/"
        },
        "id": "RWSJpsyKqHjH",
        "outputId": "52566d05-d9f1-4ac2-d7fe-f229281a9c4d"
      },
      "outputs": [
        {
          "output_type": "stream",
          "name": "stdout",
          "text": [
            "Drive already mounted at /content/drive; to attempt to forcibly remount, call drive.mount(\"/content/drive\", force_remount=True).\n"
          ]
        }
      ],
      "source": [
        "from google.colab import drive\n",
        "drive.mount('/content/drive')"
      ]
    },
    {
      "cell_type": "code",
      "source": [
        "!pip install wfdb wget"
      ],
      "metadata": {
        "colab": {
          "base_uri": "https://localhost:8080/"
        },
        "id": "00ScIFJKAnVm",
        "outputId": "76cb6638-4f63-4f9e-d6b2-6b3aa218a19d"
      },
      "execution_count": null,
      "outputs": [
        {
          "output_type": "stream",
          "name": "stdout",
          "text": [
            "Looking in indexes: https://pypi.org/simple, https://us-python.pkg.dev/colab-wheels/public/simple/\n",
            "Collecting wfdb\n",
            "  Downloading wfdb-4.1.0-py3-none-any.whl (159 kB)\n",
            "\u001b[2K     \u001b[90m━━━━━━━━━━━━━━━━━━━━━━━━━━━━━━━━━━━━━━━\u001b[0m \u001b[32m159.9/159.9 KB\u001b[0m \u001b[31m9.5 MB/s\u001b[0m eta \u001b[36m0:00:00\u001b[0m\n",
            "\u001b[?25hCollecting wget\n",
            "  Downloading wget-3.2.zip (10 kB)\n",
            "  Preparing metadata (setup.py) ... \u001b[?25l\u001b[?25hdone\n",
            "Requirement already satisfied: requests<3.0.0,>=2.8.1 in /usr/local/lib/python3.9/dist-packages (from wfdb) (2.27.1)\n",
            "Requirement already satisfied: matplotlib<4.0.0,>=3.2.2 in /usr/local/lib/python3.9/dist-packages (from wfdb) (3.7.1)\n",
            "Requirement already satisfied: scipy<2.0.0,>=1.0.0 in /usr/local/lib/python3.9/dist-packages (from wfdb) (1.10.1)\n",
            "Requirement already satisfied: pandas<2.0.0,>=1.0.0 in /usr/local/lib/python3.9/dist-packages (from wfdb) (1.4.4)\n",
            "Requirement already satisfied: numpy<2.0.0,>=1.10.1 in /usr/local/lib/python3.9/dist-packages (from wfdb) (1.22.4)\n",
            "Collecting SoundFile<0.12.0,>=0.10.0\n",
            "  Downloading soundfile-0.11.0-py2.py3-none-any.whl (23 kB)\n",
            "Requirement already satisfied: kiwisolver>=1.0.1 in /usr/local/lib/python3.9/dist-packages (from matplotlib<4.0.0,>=3.2.2->wfdb) (1.4.4)\n",
            "Requirement already satisfied: fonttools>=4.22.0 in /usr/local/lib/python3.9/dist-packages (from matplotlib<4.0.0,>=3.2.2->wfdb) (4.39.3)\n",
            "Requirement already satisfied: packaging>=20.0 in /usr/local/lib/python3.9/dist-packages (from matplotlib<4.0.0,>=3.2.2->wfdb) (23.0)\n",
            "Requirement already satisfied: pillow>=6.2.0 in /usr/local/lib/python3.9/dist-packages (from matplotlib<4.0.0,>=3.2.2->wfdb) (8.4.0)\n",
            "Requirement already satisfied: importlib-resources>=3.2.0 in /usr/local/lib/python3.9/dist-packages (from matplotlib<4.0.0,>=3.2.2->wfdb) (5.12.0)\n",
            "Requirement already satisfied: python-dateutil>=2.7 in /usr/local/lib/python3.9/dist-packages (from matplotlib<4.0.0,>=3.2.2->wfdb) (2.8.2)\n",
            "Requirement already satisfied: cycler>=0.10 in /usr/local/lib/python3.9/dist-packages (from matplotlib<4.0.0,>=3.2.2->wfdb) (0.11.0)\n",
            "Requirement already satisfied: contourpy>=1.0.1 in /usr/local/lib/python3.9/dist-packages (from matplotlib<4.0.0,>=3.2.2->wfdb) (1.0.7)\n",
            "Requirement already satisfied: pyparsing>=2.3.1 in /usr/local/lib/python3.9/dist-packages (from matplotlib<4.0.0,>=3.2.2->wfdb) (3.0.9)\n",
            "Requirement already satisfied: pytz>=2020.1 in /usr/local/lib/python3.9/dist-packages (from pandas<2.0.0,>=1.0.0->wfdb) (2022.7.1)\n",
            "Requirement already satisfied: charset-normalizer~=2.0.0 in /usr/local/lib/python3.9/dist-packages (from requests<3.0.0,>=2.8.1->wfdb) (2.0.12)\n",
            "Requirement already satisfied: urllib3<1.27,>=1.21.1 in /usr/local/lib/python3.9/dist-packages (from requests<3.0.0,>=2.8.1->wfdb) (1.26.15)\n",
            "Requirement already satisfied: idna<4,>=2.5 in /usr/local/lib/python3.9/dist-packages (from requests<3.0.0,>=2.8.1->wfdb) (3.4)\n",
            "Requirement already satisfied: certifi>=2017.4.17 in /usr/local/lib/python3.9/dist-packages (from requests<3.0.0,>=2.8.1->wfdb) (2022.12.7)\n",
            "Requirement already satisfied: cffi>=1.0 in /usr/local/lib/python3.9/dist-packages (from SoundFile<0.12.0,>=0.10.0->wfdb) (1.15.1)\n",
            "Requirement already satisfied: pycparser in /usr/local/lib/python3.9/dist-packages (from cffi>=1.0->SoundFile<0.12.0,>=0.10.0->wfdb) (2.21)\n",
            "Requirement already satisfied: zipp>=3.1.0 in /usr/local/lib/python3.9/dist-packages (from importlib-resources>=3.2.0->matplotlib<4.0.0,>=3.2.2->wfdb) (3.15.0)\n",
            "Requirement already satisfied: six>=1.5 in /usr/local/lib/python3.9/dist-packages (from python-dateutil>=2.7->matplotlib<4.0.0,>=3.2.2->wfdb) (1.16.0)\n",
            "Building wheels for collected packages: wget\n",
            "  Building wheel for wget (setup.py) ... \u001b[?25l\u001b[?25hdone\n",
            "  Created wheel for wget: filename=wget-3.2-py3-none-any.whl size=9676 sha256=50ff58dbff3a99d4df0560c15a3f01a134145f49fbfdbc49c9c4741616b9f13a\n",
            "  Stored in directory: /root/.cache/pip/wheels/04/5f/3e/46cc37c5d698415694d83f607f833f83f0149e49b3af9d0f38\n",
            "Successfully built wget\n",
            "Installing collected packages: wget, SoundFile, wfdb\n",
            "  Attempting uninstall: SoundFile\n",
            "    Found existing installation: soundfile 0.12.1\n",
            "    Uninstalling soundfile-0.12.1:\n",
            "      Successfully uninstalled soundfile-0.12.1\n",
            "\u001b[31mERROR: pip's dependency resolver does not currently take into account all the packages that are installed. This behaviour is the source of the following dependency conflicts.\n",
            "librosa 0.10.0.post2 requires soundfile>=0.12.1, but you have soundfile 0.11.0 which is incompatible.\u001b[0m\u001b[31m\n",
            "\u001b[0mSuccessfully installed SoundFile-0.11.0 wfdb-4.1.0 wget-3.2\n"
          ]
        }
      ]
    },
    {
      "cell_type": "code",
      "execution_count": null,
      "metadata": {
        "id": "qkKbWrBCfwCA"
      },
      "outputs": [],
      "source": [
        "import os\n",
        "import numpy as np, sys,os\n",
        "import pandas as pd\n",
        "import matplotlib.pyplot as plt\n",
        "import seaborn as sns\n",
        "from scipy.io import loadmat\n",
        "import wfdb\n",
        "from sklearn.preprocessing import MultiLabelBinarizer\n",
        "from sklearn.model_selection import StratifiedKFold\n",
        "#from keras.preprocessing.sequence import pad_sequences\n",
        "import math\n",
        "import warnings\n",
        "\n",
        "def load_raw_data(df, sampling_rate, path):\n",
        "    if sampling_rate == 100:\n",
        "        data = [wfdb.rdsamp(path+f) for f in df.filename_lr]\n",
        "    else:\n",
        "        data = [wfdb.rdsamp(path+f) for f in df.filename_hr]\n",
        "    data = np.array([signal for signal, meta in data])\n",
        "    return data\n",
        "\n",
        "def load_challenge_data(filename):\n",
        "    x = loadmat(filename)\n",
        "    data = np.asarray(x['val'], dtype=np.float64)\n",
        "    new_file = filename.replace('.mat','.hea')\n",
        "    input_header_file = os.path.join(new_file)\n",
        "    with open(input_header_file,'r') as f:\n",
        "        header_data=f.readlines()\n",
        "    return data, header_data\n",
        "\n",
        "path = 'drive/MyDrive/ptb-xl-EGC-dataset-1.0.3/records100/00000/'\n",
        "sampling_rate=100\n",
        "\n",
        "# load and convert annotation data\n",
        "#Y = pd.read_csv(path+'ptbxl_database.csv', index_col='ecg_id')\n",
        "#Y.scp_codes = Y.scp_codes.apply(lambda x: ast.literal_eval(x))\n",
        "\n",
        "# Load raw signal data\n",
        "#X = load_raw_data(Y, sampling_rate, path)"
      ]
    },
    {
      "cell_type": "markdown",
      "source": [
        "# Database Description\n",
        "\n",
        ">The [PTB-XL ECG dataset](https://physionet.org/content/ptb-xl/1.0.3/) is a large dataset of 21799 clinical 12-lead ECGs from 18869 patients of 10 second length, where 52% are male and 48% are female with ages covering the whole range from 0 to 95 years (median 62 and interquantile range of 22). The raw waveform data was annotated by up to two cardiologists, who assigned potentially multiple ECG statements to each record. The in total 71 different [ECG statements](https://physionet.org/content/ptb-xl/1.0.3/scp_statements.csv) conform to the SCP-ECG standard and cover diagnostic, form, and rhythm statements. The dataset is complemented by extensive metadata on demographics, infarction characteristics, likelihoods for diagnostic ECG statements as well as annotated signal properties.\n",
        "\n",
        "##File Structure\n",
        "These records are divided into 21 folders. For each record, there ar two file types:\n",
        "\n",
        "1. Header files (.hea)\n",
        "2. Signal files (.mat)\n",
        "\n",
        "The waveform files are stored in WaveForm DataBase ([WFDB](https://wfdb.readthedocs.io/en/latest/)) format with 16 bit precision at a resolution of 1μV/LSB and a sampling frequency of 500Hz (*/records500*). For the user’s convenience we also release a downsampled versions of the waveform data at a sampling frequency of 100Hz (*records100/*).\n",
        "\n",
        "In general, the dataset is organized as follows:\n",
        "\n",
        "<dl>\n",
        "<dt>ptbxl\n",
        "<dt>├── ptbxl_database.csv</dt>\n",
        "<dt>├── scp_statements.csv</dt>\n",
        "<dt>├── /records100</dt>\n",
        "<dt>└── /── /00000</dt>\n",
        "<dd>&nbsp;&nbsp;&nbsp;&nbsp;&nbsp;&nbsp;├── 00001_lr.dat</dd>\n",
        "<dd>&nbsp;&nbsp;&nbsp;&nbsp;&nbsp;&nbsp;├── 00001_lr.hea</dd>\n",
        "<dd>&nbsp;&nbsp;&nbsp;&nbsp;&nbsp;&nbsp;├── ...</dd>\n",
        "<dd>&nbsp;&nbsp;&nbsp;&nbsp;&nbsp;&nbsp;├── 00999_lr.dat</dd>\n",
        "<dd>&nbsp;&nbsp;&nbsp;&nbsp;&nbsp;&nbsp;└── 00999_lr.hea</dd>\n",
        "<dt>└── /── /...</dt>\n",
        "<dt>└── /── /21000</dt>\n",
        "<dd>&nbsp;&nbsp;&nbsp;&nbsp;&nbsp;&nbsp;├── 21001_lr.dat</dd>\n",
        "<dd>&nbsp;&nbsp;&nbsp;&nbsp;&nbsp;&nbsp;├── 21001_lr.hea</dd>\n",
        "<dd>&nbsp;&nbsp;&nbsp;&nbsp;&nbsp;&nbsp;├── ...</dd>\n",
        "<dd>&nbsp;&nbsp;&nbsp;&nbsp;&nbsp;&nbsp;├── 21837_lr.dat</dd>\n",
        "<dd>&nbsp;&nbsp;&nbsp;&nbsp;&nbsp;&nbsp;└── 21837_lr.hea</dd>\n",
        "<dt>├── /records500</dt>\n",
        "<dt>└── /── /00000</dt>\n",
        "<dd>&nbsp;&nbsp;&nbsp;&nbsp;&nbsp;&nbsp;├── 00001_hr.dat</dd>\n",
        "<dd>&nbsp;&nbsp;&nbsp;&nbsp;&nbsp;&nbsp;├── 00001_hr.hea</dd>\n",
        "<dd>&nbsp;&nbsp;&nbsp;&nbsp;&nbsp;&nbsp;├── ...</dd>\n",
        "<dd>&nbsp;&nbsp;&nbsp;&nbsp;&nbsp;&nbsp;├── 00999_hr.dat</dd>\n",
        "<dd>&nbsp;&nbsp;&nbsp;&nbsp;&nbsp;&nbsp;└── 00999_hr.hea</dd>\n",
        "<dt>└── /── /...</dt>\n",
        "<dt>└── /── /21000</dt>\n",
        "<dd>&nbsp;&nbsp;&nbsp;&nbsp;&nbsp;&nbsp;├── 21001_hr.dat</dd>\n",
        "<dd>&nbsp;&nbsp;&nbsp;&nbsp;&nbsp;&nbsp;├── 21001_hr.hea</dd>\n",
        "<dd>&nbsp;&nbsp;&nbsp;&nbsp;&nbsp;&nbsp;├── ...</dd>\n",
        "<dd>&nbsp;&nbsp;&nbsp;&nbsp;&nbsp;&nbsp;├── 21837_hr.dat</dd>\n",
        "<dd>&nbsp;&nbsp;&nbsp;&nbsp;&nbsp;&nbsp;└── 21837_hr.hea</dd>\n",
        "</dl>\n",
        "\n",
        "\n",
        "The distribution of diagnosis is as follows, where we restrict for simplicity to diagnostic statements aggregated into superclasses (note: sum of statements exceeds the number of records because of potentially multiple labels per record):\n",
        "<div align = \"center\">\n",
        "  <table>\n",
        "    <thead>\n",
        "      <tr>\n",
        "        <th scope=\"col\">#Records</th>\n",
        "        <th scope=\"col\">Superclass</th>\n",
        "        <th scope=\"col\">Description</th>\n",
        "      </tr>\n",
        "    </thead>\n",
        "    <tbody>\n",
        "      <tr>\n",
        "        <td>9514</td>\n",
        "        <td>NORM</td>\n",
        "        <td>Normal ECG</td>\n",
        "      </tr>\n",
        "      <tr>\n",
        "        <td>5469</td>\n",
        "        <td>MI</td>\n",
        "        <td>Myocardial Infarction</td>\n",
        "      </tr>\n",
        "      <tr>\n",
        "        <td>5235</td>\n",
        "        <td>STTC</td>\n",
        "        <td>ST/T Change</td>\n",
        "      </tr>\n",
        "      <tr>\n",
        "        <td>4898</td>\n",
        "        <td>CD</td>\n",
        "        <td>Conduction Disturbance</td>\n",
        "      </tr>\n",
        "      <tr>\n",
        "        <td>2649</td>\n",
        "        <td>HYP</td>\n",
        "        <td>Hypertrophy</td>\n",
        "      </tr>\n",
        "    </tbody>\n",
        "  </table>\n",
        "</div>\n",
        "\n",
        "\n",
        "\n",
        "All relevant metadata is stored in [ptbxl_database.csv](https://physionet.org/content/ptb-xl/1.0.3/ptbxl_database.csv) with one row per record identified by ecg_id. It contains 28 columns that can be categorized into:\n",
        "\n",
        "1. Identifiers: Each record is identified by a unique ecg_id. The corresponding patient is encoded via patient_id. The paths to the original record (500 Hz) and a downsampled version of the record (100 Hz) are stored in *filename_hr* and *filename_lr*.\n",
        "2. General Metadata: demographic and recording metadata such as *age, sex, height, weight, nurse, site, device* and *recording_date*\n",
        "3. [ECG statements](https://physionet.org/content/ptb-xl/1.0.3/scp_statements.csv): core components are scp_codes (SCP-ECG statements as a dictionary with entries of the form statement: likelihood, where likelihood is set to 0 if unknown) and report (report string). Additional fields are *heart_axis, infarction_stadium1, infarction_stadium2, validated_by, second_opinion, initial_autogenerated_report* and *validated_by_human*.\n",
        "4. Signal Metadata: signal quality such as noise (static_noise and burst_noise), baseline drifts (baseline_drift) and other artifacts such as electrodes_problems. We also provide extra_beats for counting extra systoles and pacemaker for signal patterns indicating an active pacemaker.\n",
        "5. Cross-validation Folds: recommended 10-fold train-test splits (strat_fold) obtained via stratified sampling while respecting patient assignments, i.e. all records of a particular patient were assigned to the same fold. Records in fold 9 and 10 underwent at least one human evaluation and are therefore of a particularly high label quality. It is proposed to use folds 1-8 as training set, fold 9 as validation set and fold 10 as test set."
      ],
      "metadata": {
        "id": "hHZmrxAagbZ4"
      }
    },
    {
      "cell_type": "code",
      "source": [
        "ex_id = '00943_lr'\n",
        "ex_data = wfdb.rdsamp(path+ex_id)\n",
        "print(ex_data)"
      ],
      "metadata": {
        "id": "GnXQYhYf5pMp",
        "colab": {
          "base_uri": "https://localhost:8080/"
        },
        "outputId": "62f47ef9-e32b-4ab4-ff1c-9cf8ce8b24a9"
      },
      "execution_count": null,
      "outputs": [
        {
          "output_type": "stream",
          "name": "stdout",
          "text": [
            "(array([[-0.074, -0.253, -0.179, ..., -0.265, -0.091, -0.132],\n",
            "       [-0.074, -0.25 , -0.176, ..., -0.271, -0.096, -0.135],\n",
            "       [-0.064, -0.235, -0.171, ..., -0.273, -0.101, -0.138],\n",
            "       ...,\n",
            "       [ 0.073, -0.051, -0.123, ..., -0.546, -0.276,  0.074],\n",
            "       [ 0.03 , -0.027, -0.057, ..., -0.309, -0.169,  0.086],\n",
            "       [ 0.048,  0.054,  0.006, ..., -0.134, -0.039,  0.19 ]]), {'fs': 100, 'sig_len': 1000, 'n_sig': 12, 'base_date': None, 'base_time': None, 'units': ['mV', 'mV', 'mV', 'mV', 'mV', 'mV', 'mV', 'mV', 'mV', 'mV', 'mV', 'mV'], 'sig_name': ['I', 'II', 'III', 'AVR', 'AVL', 'AVF', 'V1', 'V2', 'V3', 'V4', 'V5', 'V6'], 'comments': []})\n"
          ]
        }
      ]
    },
    {
      "cell_type": "code",
      "source": [],
      "metadata": {
        "id": "IfNOkxfAkQ9H"
      },
      "execution_count": null,
      "outputs": []
    }
  ]
}